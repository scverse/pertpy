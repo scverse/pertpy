{
 "cells": [
  {
   "cell_type": "markdown",
   "metadata": {},
   "source": [
    "### these routines need to be execute with an environment that has R 4.0. Otherwise Seurat will crash during the UMAP step.\n",
    "- Try scIB-R-integration from scIB"
   ]
  },
  {
   "cell_type": "code",
   "execution_count": 1,
   "metadata": {},
   "outputs": [
    {
     "ename": "ERROR",
     "evalue": "Error in library(Seurat): there is no package called ‘Seurat’\n",
     "output_type": "error",
     "traceback": [
      "Error in library(Seurat): there is no package called ‘Seurat’\nTraceback:\n",
      "1. library(Seurat)"
     ]
    }
   ],
   "source": [
    "# Load packages.\n",
    "library(Seurat)\n",
    "library(SeuratData)\n",
    "library(ggplot2)\n",
    "library(patchwork)\n",
    "library(scales)\n",
    "library(dplyr)\n",
    "library(reshape2)"
   ]
  },
  {
   "cell_type": "code",
   "execution_count": 2,
   "metadata": {},
   "outputs": [],
   "source": [
    "\n",
    "# # Download dataset using SeuratData.\n",
    "# InstallData(ds = \"thp1.eccite\")"
   ]
  },
  {
   "cell_type": "code",
   "execution_count": 3,
   "metadata": {},
   "outputs": [
    {
     "name": "stderr",
     "output_type": "stream",
     "text": [
      "Normalizing across cells\n",
      "\n"
     ]
    }
   ],
   "source": [
    "# Load object.\n",
    "eccite <- LoadData(ds = \"thp1.eccite\")\n",
    "\n",
    "# Normalize protein.\n",
    "eccite <- NormalizeData(\n",
    "  object = eccite, \n",
    "  assay = \"ADT\", \n",
    "  normalization.method = \"CLR\", \n",
    "  margin = 2)"
   ]
  },
  {
   "cell_type": "code",
   "execution_count": 4,
   "metadata": {},
   "outputs": [
    {
     "data": {
      "text/plain": [
       "An object of class Seurat \n",
       "18776 features across 20729 samples within 4 assays \n",
       "Active assay: RNA (18649 features)\n",
       " 3 other assays present: ADT, HTO, GDO"
      ]
     },
     "metadata": {},
     "output_type": "display_data"
    }
   ],
   "source": [
    "eccite"
   ]
  },
  {
   "cell_type": "code",
   "execution_count": 5,
   "metadata": {},
   "outputs": [
    {
     "name": "stderr",
     "output_type": "stream",
     "text": [
      "Centering and scaling data matrix\n",
      "\n"
     ]
    }
   ],
   "source": [
    "# Prepare RNA assay for dimensionality reduction: \n",
    "# Normalize data, find variable features and scale data.\n",
    "DefaultAssay(object = eccite) <- 'RNA'\n",
    "eccite <- NormalizeData(object = eccite) %>% FindVariableFeatures() %>% ScaleData()\n"
   ]
  },
  {
   "cell_type": "code",
   "execution_count": 6,
   "metadata": {},
   "outputs": [
    {
     "name": "stdout",
     "output_type": "stream",
     "text": [
      "[1] \"here...\"\n"
     ]
    }
   ],
   "source": [
    "print('here...')"
   ]
  },
  {
   "cell_type": "code",
   "execution_count": 7,
   "metadata": {},
   "outputs": [
    {
     "data": {
      "text/plain": [
       "An object of class Seurat \n",
       "18776 features across 20729 samples within 4 assays \n",
       "Active assay: RNA (18649 features)\n",
       " 3 other assays present: ADT, HTO, GDO"
      ]
     },
     "metadata": {},
     "output_type": "display_data"
    }
   ],
   "source": [
    "eccite"
   ]
  },
  {
   "cell_type": "code",
   "execution_count": 8,
   "metadata": {},
   "outputs": [
    {
     "name": "stdout",
     "output_type": "stream",
     "text": [
      "PC_ 1 \n",
      "Positive:  BIRC5, TOP2A, CDC20, MKI67, CENPF, TPX2, CDKN3, UBE2C, CKS1B, NUF2 \n",
      "\t   CCNA2, NUSAP1, KIAA0101, CENPA, HMGB2, SGOL1, TYMS, STMN1, MYBL2, GTSE1 \n",
      "\t   ASPM, H2AFZ, CDCA2, HMMR, CDCA8, KIF2C, CKAP2L, PTTG1, MND1, UBE2T \n",
      "Negative:  FTH1, FCER1G, NEAT1, SOD2, FTL, MAFB, BTG1, NPC2, CTSL, CTSC \n",
      "\t   CTSB, SLC31A2, CHI3L1, FAM26F, TNFSF13B, GBP5, PLAUR, EVL, GK, ASAH1 \n",
      "\t   HLA-DRB1, HLA-DRA, SPP1, SCPEP1, CD74, SAT1, GBP1, SLAMF7, WARS, SDS \n",
      "PC_ 2 \n",
      "Positive:  HYOU1, PDIA4, HSPA5, SDF2L1, MEI1, MANF, DNAJB9, NUCB2, TRIB3, WIPI1 \n",
      "\t   CRELD2, HSP90B1, MSTO1, SLC39A14, HERPUD1, ALDH1L2, DERL3, VIMP, SEC11C, SERP1 \n",
      "\t   PPAPDC1B, CDK2AP2, OSTC, DNAJB11, ERO1LB, SEC61G, SYVN1, TMED2, DNAJC3, PYCR1 \n",
      "Negative:  HSPA8, KIAA0101, TYMS, MKI67, FCER1G, CHI3L1, ACTG1, TOP2A, MYBL2, HSP90AA1 \n",
      "\t   CCNA2, BIRC5, CLSPN, PKMYT1, NPC2, NUSAP1, HMGN2, ZWINT, CENPF, H2AFZ \n",
      "\t   TMEM106C, CENPW, TUBA1B, STMN1, CTSC, ASF1B, CDCA5, HMGA1, RRM2, GTSE1 \n",
      "PC_ 3 \n",
      "Positive:  CDKN1A, ATF5, WARS, PLEK, CXCL10, IL1RN, SOD2, FAM26F, SLC31A2, GBP1 \n",
      "\t   IDO1, SLAMF7, GK, HLA-DRA, ISG20, ICAM1, CD274, CCL2, ATF3, GBP5 \n",
      "\t   CCL8, CD74, MTHFD2, IL8, FCER1G, GCH1, TNFSF13B, IL4I1, GLUL, RALA \n",
      "Negative:  QPRT, S100A4, RPLP0, S100A6, ZFP36L2, ALOX5AP, SORL1, ANTXR1, C1orf162, VCAN \n",
      "\t   GLIPR1, CD1D, ID1, CAPN2, ID2, TGFBR1, RGS16, TKT, ITM2C, CDKN2C \n",
      "\t   HSPB1, ACTG1, CORO1A, SMYD3, ID3, RPSA, ALDH2, FOS, AZU1, THYN1 \n",
      "PC_ 4 \n",
      "Positive:  RMDN3, GCHFR, GRN, DNASE2, WARS, SCCPDH, PSME2, LIPG, CTSD, HLA-DRB1 \n",
      "\t   C19orf59, TSPO, HLA-DRB5, LTA4H, HLA-A, IFI30, AGT, GBP5, CEBPE, APOC1 \n",
      "\t   GLUL, MARC1, CD74, CD1D, PPARG, ALOX5AP, CLDN23, CD68, S100A8, PLIN2 \n",
      "Negative:  CCL2, IGFBP3, PEA15, CCL3, NFKBIA, MMP9, CCL4, CCL5, POU2F2, IL1B \n",
      "\t   MARCKSL1, CXCL11, MX2, RGS1, CXCL9, USP18, PDPN, SPP1, CLEC5A, E2F1 \n",
      "\t   TGFBR1, CKB, RUNX3, PTPN14, SMYD3, TGFBI, CCL8, TESC, GINS2, PNRC1 \n",
      "PC_ 5 \n",
      "Positive:  FTL, FABP5, PLIN2, CSTB, CTSD, CD36, FTH1, HMGA1, SPOCD1, RMDN3 \n",
      "\t   APOC1, DDIT4L, AGPAT9, CDK4, MSR1, E2F1, SRM, GCHFR, GINS2, CLDN23 \n",
      "\t   TOMM40, RND3, NCF2, FAM111B, DTL, APOE, STRA13, IL8, SLC11A1, CHCHD10 \n",
      "Negative:  TNFSF10, NCF1, PSMB9, CXCL11, CXCL10, IFI27, TMEM176B, RARRES3, TMEM176A, NFKBIA \n",
      "\t   IL32, SOCS1, IFITM1, GBP1, CCNB1, PLK1, HMMR, PNRC1, PSME2, RGS16 \n",
      "\t   MYO1G, CD74, ISG20, TNFSF13B, CXCL9, TMEM50B, CDC20, IFIT2, PTTG1, GLIPR1 \n"
     ]
    }
   ],
   "source": [
    "# Run Principle Component Analysis (PCA) to reduce the dimensionality of the data.\n",
    "eccite <- RunPCA(object = eccite)"
   ]
  },
  {
   "cell_type": "code",
   "execution_count": 10,
   "metadata": {},
   "outputs": [
    {
     "data": {
      "text/plain": [
       "An object of class Seurat \n",
       "18776 features across 20729 samples within 4 assays \n",
       "Active assay: RNA (18649 features)\n",
       " 3 other assays present: ADT, HTO, GDO\n",
       " 1 dimensional reduction calculated: pca"
      ]
     },
     "metadata": {},
     "output_type": "display_data"
    }
   ],
   "source": [
    "eccite"
   ]
  },
  {
   "cell_type": "code",
   "execution_count": null,
   "metadata": {},
   "outputs": [],
   "source": [
    "\n",
    "\n",
    "\n",
    "# Run Uniform Manifold Approximation and Projection (UMAP) to visualize clustering in 2-D.\n",
    "eccite <- RunUMAP(object = eccite, dims = 1:40)"
   ]
  },
  {
   "cell_type": "code",
   "execution_count": 1,
   "metadata": {},
   "outputs": [
    {
     "ename": "ERROR",
     "evalue": "Error in eval(expr, envir, enclos): object 'eccite' not found\n",
     "output_type": "error",
     "traceback": [
      "Error in eval(expr, envir, enclos): object 'eccite' not found\nTraceback:\n"
     ]
    }
   ],
   "source": [
    "eccite"
   ]
  },
  {
   "cell_type": "code",
   "execution_count": 3,
   "metadata": {},
   "outputs": [
    {
     "ename": "ERROR",
     "evalue": "Error in theme(plot.title = element_text(size = 16, hjust = 0.5), legend.key.size = unit(0.7, : could not find function \"theme\"\n",
     "output_type": "error",
     "traceback": [
      "Error in theme(plot.title = element_text(size = 16, hjust = 0.5), legend.key.size = unit(0.7, : could not find function \"theme\"\nTraceback:\n"
     ]
    }
   ],
   "source": [
    "# Setup custom theme for plotting.\n",
    "custom_theme <- theme(\n",
    "  plot.title = element_text(size=16, hjust = 0.5), \n",
    "  legend.key.size = unit(0.7, \"cm\"), \n",
    "  legend.text = element_text(size = 14))\n",
    "\n",
    "# Generate plots to check if clustering is driven by biological replicate ID, \n",
    "# cell cycle phase or target gene class.\n",
    "p1 <- DimPlot(\n",
    "  object = eccite, \n",
    "  group.by = 'replicate', \n",
    "  label = F, \n",
    "  pt.size = 0.2, \n",
    "  reduction = \"umap\", cols = \"Dark2\", repel = T) +\n",
    "  scale_color_brewer(palette = \"Dark2\") +\n",
    "  ggtitle(\"Biological Replicate\") +\n",
    "  xlab(\"UMAP 1\") +\n",
    "  ylab(\"UMAP 2\") +\n",
    "  custom_theme\n",
    "\n",
    "p2 <- DimPlot(\n",
    "  object = eccite, \n",
    "  group.by = 'Phase', \n",
    "  label = F, pt.size = 0.2, \n",
    "  reduction = \"umap\", repel = T) + \n",
    "  ggtitle(\"Cell Cycle Phase\") +\n",
    "  ylab(\"UMAP 2\") +\n",
    "  xlab(\"UMAP 1\") +\n",
    "  custom_theme\n",
    "\n",
    "p3 <- DimPlot(\n",
    "  object = eccite, \n",
    "  group.by = 'crispr', \n",
    "  pt.size = 0.2, \n",
    "  reduction = \"umap\", \n",
    "  split.by = \"crispr\", \n",
    "  ncol = 1, \n",
    "  cols = c(\"grey39\",\"goldenrod3\")) + \n",
    "  ggtitle(\"Perturbation Status\") +\n",
    "  ylab(\"UMAP 2\") +\n",
    "  xlab(\"UMAP 1\") +\n",
    "  custom_theme\n",
    "\n",
    "# Visualize plots.\n",
    "print('done...')\n",
    "((p1 / p2 + plot_layout(guides = 'auto')) | p3 )"
   ]
  },
  {
   "cell_type": "code",
   "execution_count": 1,
   "metadata": {},
   "outputs": [],
   "source": [
    "# save for referral in anndata2ri"
   ]
  },
  {
   "cell_type": "code",
   "execution_count": 2,
   "metadata": {},
   "outputs": [
    {
     "ename": "ERROR",
     "evalue": "Error in eval(expr, envir, enclos): object 'eccite' not found\n",
     "output_type": "error",
     "traceback": [
      "Error in eval(expr, envir, enclos): object 'eccite' not found\nTraceback:\n"
     ]
    }
   ],
   "source": [
    "saveRDS(eccite, file='data/eccite_mixscape.rds')"
   ]
  }
 ],
 "metadata": {
  "kernelspec": {
   "display_name": "R [conda env:scIB-R-integration]",
   "language": "R",
   "name": "conda-env-scIB-R-integration-r"
  },
  "language_info": {
   "codemirror_mode": "r",
   "file_extension": ".r",
   "mimetype": "text/x-r-source",
   "name": "R",
   "pygments_lexer": "r",
   "version": "3.6.1"
  }
 },
 "nbformat": 4,
 "nbformat_minor": 4
}
